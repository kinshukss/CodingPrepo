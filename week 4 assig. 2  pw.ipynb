{
 "cells": [
  {
   "attachments": {},
   "cell_type": "markdown",
   "metadata": {},
   "source": [
    "Q1. What is Abstraction in OOps? Explain with an example.\n",
    "\n",
    "Ans: Abstraction allows programmers to create a simplified model of an object, focusing only on the relevant information and actions needed to interact with it. It provides a level of abstraction that enables the user to work with objects at a higher level, without needing to understand the internal implementation details.\n"
   ]
  },
  {
   "cell_type": "code",
   "execution_count": 9,
   "metadata": {},
   "outputs": [
    {
     "name": "stdout",
     "output_type": "stream",
     "text": [
      "Woof!\n",
      "Meow!\n",
      "Ssss!\n"
     ]
    }
   ],
   "source": [
    "from abc import ABC, abstractmethod\n",
    "\n",
    "class Animal(ABC):\n",
    "    @abstractmethod\n",
    "    def make_sound(self):\n",
    "        pass\n",
    "\n",
    "class Cat(Animal):\n",
    "    def make_sound(self):\n",
    "        print(\"Meow!\")    \n",
    "\n",
    "class Dog(Animal):\n",
    "    def make_sound(self):\n",
    "        print(\"Woof!\")\n",
    "\n",
    "class Snake(Animal):\n",
    "    def make_sound(self):\n",
    "        print(\"Ssss!\")\n",
    "\n",
    "# Create objects of Dog and Cat classes\n",
    "dog = Dog()\n",
    "cat = Cat()\n",
    "snake = Snake()\n",
    "\n",
    "# Call the make_sound() method of Dog and Cat objects\n",
    "dog.make_sound()    # Output: Woof!\n",
    "cat.make_sound()    # Output: Meow!\n",
    "snake.make_sound() # Output:  Ssss!"
   ]
  },
  {
   "attachments": {},
   "cell_type": "markdown",
   "metadata": {},
   "source": [
    "Q2. Differentiate between Abstraction and Encapsulation. Explain with an example.\n",
    "\n",
    "Ans: Abstraction is a process of hiding the implementation details of a system from the user, and only the functional details will be available to the user end. On the other hand, Encapsulation is a method of wrapping up the data and code acting on the data into a single unit."
   ]
  },
  {
   "cell_type": "code",
   "execution_count": 10,
   "metadata": {},
   "outputs": [],
   "source": [
    "from abc import ABC, abstractmethod\n",
    "\n",
    "class Shape(ABC):\n",
    "    @abstractmethod\n",
    "    def area(self):\n",
    "        pass\n",
    "\n",
    "class Circle(Shape):\n",
    "    def __init__(self, radius):\n",
    "        self.radius = radius\n",
    "\n",
    "    def area(self):\n",
    "        return 3.14 * self.radius**2\n",
    "\n",
    "class Rectangle(Shape):\n",
    "    def __init__(self, width, height):\n",
    "        self.width = width\n",
    "        self.height = height\n",
    "\n",
    "    def area(self):\n",
    "        return self.width * self.height\n"
   ]
  },
  {
   "cell_type": "code",
   "execution_count": 11,
   "metadata": {},
   "outputs": [],
   "source": [
    "class Person:\n",
    "    def __init__(self, name, age):\n",
    "        self.name = name\n",
    "        self.age = age\n",
    "\n",
    "    def get_name(self):\n",
    "        return self.name\n",
    "\n",
    "    def get_age(self):\n",
    "        return self.age\n"
   ]
  },
  {
   "attachments": {},
   "cell_type": "markdown",
   "metadata": {},
   "source": [
    "Q3. What is abc module in python? Why is it used?\n",
    "\n",
    "Ans: The `abc` module in Python stands for \"Abstract Base Classes.\" It is a module that provides mechanisms for defining abstract base classes (ABCs) in Python.\n",
    "\n",
    "The `abc` module is used to create abstract base classes and define abstract methods. An abstract method is a method declared in an abstract base class that does not have an implementation in the base class. It serves as a contract or template for the methods that subclasses must implement."
   ]
  },
  {
   "attachments": {},
   "cell_type": "markdown",
   "metadata": {},
   "source": [
    "Q4. How can we achieve data abstraction?\n",
    "\n",
    "Ans: Data abstraction in object-oriented programming (OOP) can be achieved through the use of abstract classes and interfaces. Abstraction allows the representation of complex real-world entities as simplified models within the software system, focusing only on the essential features and behaviors of an object while hiding unnecessary details.\n",
    "\n",
    "Here are the steps to achieve data abstraction:\n",
    "\n",
    "Define an Abstract Base Class (ABC): An abstract base class is a class that cannot be instantiated directly and serves as a template or contract for its subclasses. In Python, the `abc` module provides the `ABC` class to define abstract base classes.\n",
    "\n",
    "Declare Abstract Methods: Abstract methods are methods that are declared in the abstract base class but do not have an implementation. They serve as a contract or template for methods that subclasses must implement. Abstract methods are defined using the `abstractmethod` decorator from the `abc` module.\n",
    "\n",
    "Subclass the Abstract Base Class: Subclasses of the abstract base class inherit its attributes and methods. However, they must implement all the abstract methods declared in the base class, providing their own implementation specific to the subclass."
   ]
  },
  {
   "attachments": {},
   "cell_type": "markdown",
   "metadata": {},
   "source": [
    "Q5. Can we create an instance of an abstract class? Explain your answer.\n",
    "\n",
    "Ans: No , The reason we cannot create an instance of an abstract class is because it may have one or more abstract methods that do not have an implementation. Abstract methods are declared in the abstract class but left undefined, and their implementation is expected to be provided by the concrete subclasses.\n",
    "\n",
    "\n"
   ]
  },
  {
   "cell_type": "code",
   "execution_count": 7,
   "metadata": {},
   "outputs": [
    {
     "ename": "TypeError",
     "evalue": "Can't instantiate abstract class Shape with abstract method calculate_area",
     "output_type": "error",
     "traceback": [
      "\u001b[1;31m---------------------------------------------------------------------------\u001b[0m",
      "\u001b[1;31mTypeError\u001b[0m                                 Traceback (most recent call last)",
      "Cell \u001b[1;32mIn[7], line 9\u001b[0m\n\u001b[0;32m      6\u001b[0m         \u001b[39mpass\u001b[39;00m\n\u001b[0;32m      8\u001b[0m \u001b[39m# Trying to create an instance of the abstract class\u001b[39;00m\n\u001b[1;32m----> 9\u001b[0m shape \u001b[39m=\u001b[39m Shape()  \u001b[39m# Raises TypeError: Can't instantiate abstract class Shape with abstract methods calculate_area\u001b[39;00m\n",
      "\u001b[1;31mTypeError\u001b[0m: Can't instantiate abstract class Shape with abstract method calculate_area"
     ]
    }
   ],
   "source": [
    "from abc import ABC, abstractmethod\n",
    "\n",
    "class Shape(ABC):\n",
    "    @abstractmethod\n",
    "    def calculate_area(self):\n",
    "        pass\n",
    "\n",
    "# Trying to create an instance of the abstract class\n",
    "shape = Shape()  # Raises TypeError: Can't instantiate abstract class Shape with abstract methods calculate_area\n"
   ]
  }
 ],
 "metadata": {
  "kernelspec": {
   "display_name": "Python 3",
   "language": "python",
   "name": "python3"
  },
  "language_info": {
   "codemirror_mode": {
    "name": "ipython",
    "version": 3
   },
   "file_extension": ".py",
   "mimetype": "text/x-python",
   "name": "python",
   "nbconvert_exporter": "python",
   "pygments_lexer": "ipython3",
   "version": "3.11.2"
  },
  "orig_nbformat": 4
 },
 "nbformat": 4,
 "nbformat_minor": 2
}
