{
 "cells": [
  {
   "attachments": {},
   "cell_type": "markdown",
   "metadata": {},
   "source": [
    "Q1. Explain Class and Object with respect to Object-Oriented Programming. Give a suitable example.\n",
    "\n",
    "Ans: In object-oriented programming (OOP), a class is a blueprint or template for creating objects, while an object is an instance of a class. A class defines the characteristics (attributes) and behaviors (methods) that objects of that class will possess."
   ]
  },
  {
   "cell_type": "code",
   "execution_count": 2,
   "metadata": {},
   "outputs": [
    {
     "name": "stdout",
     "output_type": "stream",
     "text": [
      "Mahindra\n",
      "2016\n",
      "The car's engine is started.\n",
      "The car's engine is stopped.\n"
     ]
    }
   ],
   "source": [
    "class Car:\n",
    "    def __init__(self, make, model, year):\n",
    "        self.make = make\n",
    "        self.model = model\n",
    "        self.year = year\n",
    "\n",
    "    def start_engine(self):\n",
    "        print(\"The car's engine is started.\")\n",
    "\n",
    "    def stop_engine(self):\n",
    "        print(\"The car's engine is stopped.\")\n",
    "# Create objects of Car class\n",
    "car1 = Car(\"Mahindra\", \"Thar\", 2018)\n",
    "car2 = Car(\"Tata\", \"Safari\", 2016)\n",
    "# Access attributes of car objects\n",
    "print(car1.make)    # Output: Mahindra\n",
    "print(car2.year)    # Output: 2016\n",
    "\n",
    "# Invoke methods of car objects\n",
    "car1.start_engine()   # Output: The car's engine is started.\n",
    "car2.stop_engine()    # Output: The car's engine is stopped.\n"
   ]
  },
  {
   "attachments": {},
   "cell_type": "markdown",
   "metadata": {},
   "source": [
    "Q2. Name the four pillars of OOPs.\n",
    "\n",
    "Ans: The four pillars of object-oriented programming are:\n",
    "\n",
    "- Abstraction\n",
    "- Encapsulation\n",
    "- Inheritance\n",
    "- Polymorphism"
   ]
  },
  {
   "attachments": {},
   "cell_type": "markdown",
   "metadata": {},
   "source": [
    "Q3. Explain why the __init__() function is used. Give a suitable example.\n",
    "\n",
    "Ans: The __init__() function is a special method in Python classes that is automatically called when an object of that class is created. It is used to initialize the attributes of an object with specific values."
   ]
  },
  {
   "cell_type": "code",
   "execution_count": 3,
   "metadata": {},
   "outputs": [
    {
     "data": {
      "text/plain": [
       "(101, 'r@gmail.com', 9999)"
      ]
     },
     "execution_count": 3,
     "metadata": {},
     "output_type": "execute_result"
    }
   ],
   "source": [
    "class pwskills1():\n",
    "    def __init__(self, student_id,email_id,phn_no,):\n",
    "        self.student_id = student_id\n",
    "        self.email_id = email_id\n",
    "        self.phn_no1 = phn_no\n",
    "\n",
    "    def student_details(self):\n",
    "        return self.student_id,self.email_id,self.phn_no1\n",
    "    \n",
    "    \n",
    "rohan=pwskills1(101,\"r@gmail.com\",9999)\n",
    "rohan.student_details()    "
   ]
  },
  {
   "attachments": {},
   "cell_type": "markdown",
   "metadata": {},
   "source": [
    "Q4. Why self is used in OOPs?\n",
    "\n",
    "Ans: In object-oriented programming (OOP), 'self' is a convention used to refer to the instance of a class within the class's methods. It acts as a reference to the current object or instance on which a method is being called.\n",
    "\n",
    "When a method is called on an object, 'self' allows access to the attributes and methods of that object. It helps in distinguishing between the instance variables (attributes) of the current object and other variables that may have the same name within the method.\n"
   ]
  },
  {
   "attachments": {},
   "cell_type": "markdown",
   "metadata": {},
   "source": [
    "Q5. What is inheritance? Give an example for each type of inheritance.\n",
    "\n",
    "Ans:Inheritance is a fundamental concept in object-oriented programming (OOP) that allows a class to inherit attributes and behaviors from another class. It establishes a parent-child relationship between classes, where the child class (subclass) inherits the characteristics of the parent class (superclass) and can add or modify its own attributes and behaviors.\n",
    "\n",
    "There are different types of inheritance in OOP, including:\n",
    "Single Inheritance:\n",
    "In single inheritance, a subclass inherits from a single superclass. It is the simplest form of inheritance. \n",
    "Multiple Inheritance:\n",
    "Multiple inheritance allows a subclass to inherit from multiple superclasses. It enables the subclass to combine features from multiple classes. \n",
    "Multilevel Inheritance:\n",
    "Multilevel inheritance occurs when a subclass inherits from another subclass, creating a hierarchy of classes."
   ]
  },
  {
   "cell_type": "code",
   "execution_count": 4,
   "metadata": {},
   "outputs": [
    {
     "name": "stdout",
     "output_type": "stream",
     "text": [
      "Driving a Toyota Camry car.\n"
     ]
    }
   ],
   "source": [
    "#Single inheritance\n",
    "class Vehicle:\n",
    "    def __init__(self, brand):\n",
    "        self.brand = brand\n",
    "\n",
    "    def drive(self):\n",
    "        print(f\"Driving a {self.brand} vehicle.\")\n",
    "\n",
    "class Car(Vehicle):\n",
    "    def __init__(self, brand, model):\n",
    "        super().__init__(brand)\n",
    "        self.model = model\n",
    "\n",
    "    def drive(self):\n",
    "        print(f\"Driving a {self.brand} {self.model} car.\")\n",
    "\n",
    "# Create an object of Car class\n",
    "car = Car(\"Toyota\", \"Camry\")\n",
    "\n",
    "# Call the drive() method of Car class\n",
    "car.drive()\n"
   ]
  },
  {
   "cell_type": "code",
   "execution_count": 5,
   "metadata": {},
   "outputs": [
    {
     "name": "stdout",
     "output_type": "stream",
     "text": [
      "Eating...\n",
      "Flying...\n"
     ]
    }
   ],
   "source": [
    "#Multiple inhertance \n",
    "class Animal:\n",
    "    def eat(self):\n",
    "        print(\"Eating...\")\n",
    "\n",
    "class Flyable:\n",
    "    def fly(self):\n",
    "        print(\"Flying...\")\n",
    "\n",
    "class Bird(Animal, Flyable):\n",
    "    pass\n",
    "\n",
    "# Create an object of Bird class\n",
    "bird = Bird()\n",
    "\n",
    "# Call the eat() and fly() methods of Bird class\n",
    "bird.eat()\n",
    "bird.fly()\n"
   ]
  },
  {
   "cell_type": "code",
   "execution_count": 6,
   "metadata": {},
   "outputs": [
    {
     "name": "stdout",
     "output_type": "stream",
     "text": [
      "Eating...\n",
      "Sleeping...\n",
      "Barking...\n"
     ]
    }
   ],
   "source": [
    "#Multilevel inheritance\n",
    "class Animal:\n",
    "    def eat(self):\n",
    "        print(\"Eating...\")\n",
    "\n",
    "class Mammal(Animal):\n",
    "    def sleep(self):\n",
    "        print(\"Sleeping...\")\n",
    "\n",
    "class Dog(Mammal):\n",
    "    def bark(self):\n",
    "        print(\"Barking...\")\n",
    "\n",
    "# Create an object of Dog class\n",
    "dog = Dog()\n",
    "\n",
    "# Call the eat(), sleep(), and bark() methods of Dog class\n",
    "dog.eat()\n",
    "dog.sleep()\n",
    "dog.bark()\n"
   ]
  }
 ],
 "metadata": {
  "kernelspec": {
   "display_name": "Python 3",
   "language": "python",
   "name": "python3"
  },
  "language_info": {
   "codemirror_mode": {
    "name": "ipython",
    "version": 3
   },
   "file_extension": ".py",
   "mimetype": "text/x-python",
   "name": "python",
   "nbconvert_exporter": "python",
   "pygments_lexer": "ipython3",
   "version": "3.11.2"
  },
  "orig_nbformat": 4
 },
 "nbformat": 4,
 "nbformat_minor": 2
}
